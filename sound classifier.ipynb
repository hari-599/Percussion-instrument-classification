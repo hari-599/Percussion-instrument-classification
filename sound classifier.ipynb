{
 "cells": [
  {
   "cell_type": "code",
   "execution_count": 2,
   "metadata": {},
   "outputs": [
    {
     "name": "stdout",
     "output_type": "stream",
     "text": [
      "Requirement already satisfied: librosa in c:\\users\\user\\anaconda3\\lib\\site-packages (0.8.0)\n",
      "Requirement already satisfied: soundfile>=0.9.0 in c:\\users\\user\\anaconda3\\lib\\site-packages (from librosa) (0.10.3.post1)\n",
      "Requirement already satisfied: numba>=0.43.0 in c:\\users\\user\\anaconda3\\lib\\site-packages (from librosa) (0.51.2)Note: you may need to restart the kernel to use updated packages.\n",
      "Requirement already satisfied: pooch>=1.0 in c:\\users\\user\\anaconda3\\lib\\site-packages (from librosa) (1.3.0)\n",
      "Requirement already satisfied: numpy>=1.15.0 in c:\\users\\user\\anaconda3\\lib\\site-packages (from librosa) (1.19.2)\n",
      "Requirement already satisfied: joblib>=0.14 in c:\\users\\user\\anaconda3\\lib\\site-packages (from librosa) (0.17.0)\n",
      "Requirement already satisfied: decorator>=3.0.0 in c:\\users\\user\\anaconda3\\lib\\site-packages (from librosa) (4.4.2)\n",
      "Requirement already satisfied: audioread>=2.0.0 in c:\\users\\user\\anaconda3\\lib\\site-packages (from librosa) (2.1.9)\n",
      "Requirement already satisfied: scikit-learn!=0.19.0,>=0.14.0 in c:\\users\\user\\anaconda3\\lib\\site-packages (from librosa) (0.23.2)\n",
      "Requirement already satisfied: resampy>=0.2.2 in c:\\users\\user\\anaconda3\\lib\\site-packages (from librosa) (0.2.2)\n",
      "Requirement already satisfied: scipy>=1.0.0 in c:\\users\\user\\anaconda3\\lib\\site-packages (from librosa) (1.5.2)\n",
      "Requirement already satisfied: cffi>=1.0 in c:\\users\\user\\anaconda3\\lib\\site-packages (from soundfile>=0.9.0->librosa) (1.14.3)\n",
      "Requirement already satisfied: llvmlite<0.35,>=0.34.0.dev0 in c:\\users\\user\\anaconda3\\lib\\site-packages (from numba>=0.43.0->librosa) (0.34.0)\n",
      "\n",
      "Requirement already satisfied: setuptools in c:\\users\\user\\anaconda3\\lib\\site-packages (from numba>=0.43.0->librosa) (50.3.1.post20201107)\n",
      "Requirement already satisfied: requests in c:\\users\\user\\anaconda3\\lib\\site-packages (from pooch>=1.0->librosa) (2.24.0)\n",
      "Requirement already satisfied: appdirs in c:\\users\\user\\anaconda3\\lib\\site-packages (from pooch>=1.0->librosa) (1.4.4)\n",
      "Requirement already satisfied: packaging in c:\\users\\user\\anaconda3\\lib\\site-packages (from pooch>=1.0->librosa) (20.4)\n",
      "Requirement already satisfied: threadpoolctl>=2.0.0 in c:\\users\\user\\anaconda3\\lib\\site-packages (from scikit-learn!=0.19.0,>=0.14.0->librosa) (2.1.0)\n",
      "Requirement already satisfied: six>=1.3 in c:\\users\\user\\anaconda3\\lib\\site-packages (from resampy>=0.2.2->librosa) (1.15.0)\n",
      "Requirement already satisfied: pycparser in c:\\users\\user\\anaconda3\\lib\\site-packages (from cffi>=1.0->soundfile>=0.9.0->librosa) (2.20)\n",
      "Requirement already satisfied: chardet<4,>=3.0.2 in c:\\users\\user\\anaconda3\\lib\\site-packages (from requests->pooch>=1.0->librosa) (3.0.4)\n",
      "Requirement already satisfied: urllib3!=1.25.0,!=1.25.1,<1.26,>=1.21.1 in c:\\users\\user\\anaconda3\\lib\\site-packages (from requests->pooch>=1.0->librosa) (1.25.11)\n",
      "Requirement already satisfied: idna<3,>=2.5 in c:\\users\\user\\anaconda3\\lib\\site-packages (from requests->pooch>=1.0->librosa) (2.10)\n",
      "Requirement already satisfied: certifi>=2017.4.17 in c:\\users\\user\\anaconda3\\lib\\site-packages (from requests->pooch>=1.0->librosa) (2020.6.20)\n",
      "Requirement already satisfied: pyparsing>=2.0.2 in c:\\users\\user\\anaconda3\\lib\\site-packages (from packaging->pooch>=1.0->librosa) (2.4.7)\n"
     ]
    }
   ],
   "source": [
    "pip install librosa"
   ]
  },
  {
   "cell_type": "code",
   "execution_count": 3,
   "metadata": {},
   "outputs": [],
   "source": [
    "import librosa\n",
    "import pandas as pd\n",
    "import numpy as np\n",
    "import matplotlib.pyplot as plt\n",
    "%matplotlib inline"
   ]
  },
  {
   "cell_type": "code",
   "execution_count": 4,
   "metadata": {},
   "outputs": [],
   "source": [
    "header = 'file_name chroma_stft rmse spectral_centroid spectral_bandwidth rolloff zero_crossing_rate'"
   ]
  },
  {
   "cell_type": "code",
   "execution_count": 5,
   "metadata": {},
   "outputs": [],
   "source": [
    "for i in range(1,22):\n",
    "    header += f' mfcc{i}'"
   ]
  },
  {
   "cell_type": "code",
   "execution_count": 6,
   "metadata": {},
   "outputs": [],
   "source": [
    "header+=' label'\n",
    "header =header.split()"
   ]
  },
  {
   "cell_type": "code",
   "execution_count": 7,
   "metadata": {},
   "outputs": [],
   "source": [
    "import os\n",
    "import csv"
   ]
  },
  {
   "cell_type": "code",
   "execution_count": 8,
   "metadata": {},
   "outputs": [],
   "source": [
    "file=open('data.csv', 'w' ,newline='')\n",
    "with file:\n",
    "    writer=csv.writer(file)\n",
    "    writer.writerow(header)\n",
    "    "
   ]
  },
  {
   "cell_type": "code",
   "execution_count": 9,
   "metadata": {},
   "outputs": [],
   "source": [
    "genres='chenda mrithangam thabala'.split()"
   ]
  },
  {
   "cell_type": "code",
   "execution_count": 11,
   "metadata": {
    "scrolled": true
   },
   "outputs": [
    {
     "name": "stderr",
     "output_type": "stream",
     "text": [
      "C:\\Users\\user\\anaconda3\\lib\\site-packages\\librosa\\core\\pitch.py:153: UserWarning: Trying to estimate tuning from empty frequency set.\n",
      "  warnings.warn(\"Trying to estimate tuning from empty frequency set.\")\n"
     ]
    }
   ],
   "source": [
    "for g in genres:\n",
    "    for filename in os.listdir(f'../audio processing/Dataset/{g}'):\n",
    "                                songname=f'../audio processing/Dataset/{g}/{filename}'\n",
    "                                y,sr=librosa.load(songname,mono=True,duration=15)\n",
    "                                chroma_stft=librosa.feature.chroma_stft(y=y,sr=sr)\n",
    "                                spectral_cent=librosa.feature.spectral_centroid(y=y,sr=sr)\n",
    "                                rmse=librosa.feature.rms(y=y)\n",
    "                                spectral_bandwidth=librosa.feature.spectral_bandwidth(y=y,sr=sr)\n",
    "                                xrolloff=librosa.feature.spectral_rolloff(y=y,sr=sr)\n",
    "                                zero_cross=librosa.feature.zero_crossing_rate(y)\n",
    "                                mfcc=librosa.feature.mfcc(y=y,sr=sr)\n",
    "                                \n",
    "                                to_append=f'{filename} {np.mean(chroma_stft)} {np.mean(spectral_cent)} {np.mean(rmse)} {np.mean(spectral_bandwidth)} {np.mean(rmse)} {np.mean(xrolloff)} {np.mean(zero_cross)}'\n",
    "                                for x in mfcc:\n",
    "                                    to_append += f' {np.mean(x)}'\n",
    "                                to_append +=f' {g}'\n",
    "                                file = open('data.csv', 'a', newline='')\n",
    "                                with file:\n",
    "                                    writer = csv.writer(file)\n",
    "                                    writer.writerow(to_append.split())\n",
    "            \n",
    "         \n",
    "                               \n",
    "                               \n",
    "                               "
   ]
  },
  {
   "cell_type": "code",
   "execution_count": null,
   "metadata": {},
   "outputs": [],
   "source": []
  },
  {
   "cell_type": "code",
   "execution_count": null,
   "metadata": {},
   "outputs": [],
   "source": []
  },
  {
   "cell_type": "code",
   "execution_count": 12,
   "metadata": {},
   "outputs": [
    {
     "data": {
      "text/html": [
       "<div>\n",
       "<style scoped>\n",
       "    .dataframe tbody tr th:only-of-type {\n",
       "        vertical-align: middle;\n",
       "    }\n",
       "\n",
       "    .dataframe tbody tr th {\n",
       "        vertical-align: top;\n",
       "    }\n",
       "\n",
       "    .dataframe thead th {\n",
       "        text-align: right;\n",
       "    }\n",
       "</style>\n",
       "<table border=\"1\" class=\"dataframe\">\n",
       "  <thead>\n",
       "    <tr style=\"text-align: right;\">\n",
       "      <th></th>\n",
       "      <th>file_name</th>\n",
       "      <th>chroma_stft</th>\n",
       "      <th>rmse</th>\n",
       "      <th>spectral_centroid</th>\n",
       "      <th>spectral_bandwidth</th>\n",
       "      <th>rolloff</th>\n",
       "      <th>zero_crossing_rate</th>\n",
       "      <th>mfcc1</th>\n",
       "      <th>mfcc2</th>\n",
       "      <th>mfcc3</th>\n",
       "      <th>...</th>\n",
       "      <th>mfcc13</th>\n",
       "      <th>mfcc14</th>\n",
       "      <th>mfcc15</th>\n",
       "      <th>mfcc16</th>\n",
       "      <th>mfcc17</th>\n",
       "      <th>mfcc18</th>\n",
       "      <th>mfcc19</th>\n",
       "      <th>mfcc20</th>\n",
       "      <th>mfcc21</th>\n",
       "      <th>label</th>\n",
       "    </tr>\n",
       "  </thead>\n",
       "  <tbody>\n",
       "    <tr>\n",
       "      <th>0</th>\n",
       "      <td>chendaclass1128kRingtone.wav</td>\n",
       "      <td>0.339068</td>\n",
       "      <td>1237.864925</td>\n",
       "      <td>0.077525</td>\n",
       "      <td>1286.236830</td>\n",
       "      <td>0.077525</td>\n",
       "      <td>2116.997199</td>\n",
       "      <td>0.069963</td>\n",
       "      <td>-242.507065</td>\n",
       "      <td>156.976318</td>\n",
       "      <td>...</td>\n",
       "      <td>-16.768639</td>\n",
       "      <td>-14.803464</td>\n",
       "      <td>-9.823254</td>\n",
       "      <td>-8.131360</td>\n",
       "      <td>-10.671886</td>\n",
       "      <td>-12.925205</td>\n",
       "      <td>-7.039728</td>\n",
       "      <td>2.503829</td>\n",
       "      <td>8.760798</td>\n",
       "      <td>chenda</td>\n",
       "    </tr>\n",
       "    <tr>\n",
       "      <th>1</th>\n",
       "      <td>chendaclass1128kRingtone1.wav</td>\n",
       "      <td>0.337907</td>\n",
       "      <td>1386.245962</td>\n",
       "      <td>0.064915</td>\n",
       "      <td>1398.068100</td>\n",
       "      <td>0.064915</td>\n",
       "      <td>2478.563310</td>\n",
       "      <td>0.079397</td>\n",
       "      <td>-308.236755</td>\n",
       "      <td>143.903976</td>\n",
       "      <td>...</td>\n",
       "      <td>-11.149848</td>\n",
       "      <td>-13.087843</td>\n",
       "      <td>-8.696457</td>\n",
       "      <td>-8.738175</td>\n",
       "      <td>-11.572500</td>\n",
       "      <td>-13.933675</td>\n",
       "      <td>-8.107023</td>\n",
       "      <td>2.901551</td>\n",
       "      <td>8.761925</td>\n",
       "      <td>chenda</td>\n",
       "    </tr>\n",
       "    <tr>\n",
       "      <th>2</th>\n",
       "      <td>chendaclass1128kRingtone3.wav</td>\n",
       "      <td>0.358855</td>\n",
       "      <td>1309.613524</td>\n",
       "      <td>0.071199</td>\n",
       "      <td>1399.895072</td>\n",
       "      <td>0.071199</td>\n",
       "      <td>2297.117193</td>\n",
       "      <td>0.073015</td>\n",
       "      <td>-299.549713</td>\n",
       "      <td>142.000671</td>\n",
       "      <td>...</td>\n",
       "      <td>-11.120543</td>\n",
       "      <td>-13.012755</td>\n",
       "      <td>-7.535875</td>\n",
       "      <td>-9.090930</td>\n",
       "      <td>-14.479468</td>\n",
       "      <td>-15.739069</td>\n",
       "      <td>-6.259544</td>\n",
       "      <td>5.034882</td>\n",
       "      <td>9.134732</td>\n",
       "      <td>chenda</td>\n",
       "    </tr>\n",
       "    <tr>\n",
       "      <th>3</th>\n",
       "      <td>chendaclass1128kRingtone4.wav</td>\n",
       "      <td>0.349820</td>\n",
       "      <td>1200.869102</td>\n",
       "      <td>0.079466</td>\n",
       "      <td>1222.520831</td>\n",
       "      <td>0.079466</td>\n",
       "      <td>2004.899738</td>\n",
       "      <td>0.071154</td>\n",
       "      <td>-243.697906</td>\n",
       "      <td>162.337494</td>\n",
       "      <td>...</td>\n",
       "      <td>-14.071358</td>\n",
       "      <td>-15.764640</td>\n",
       "      <td>-9.676484</td>\n",
       "      <td>-7.818457</td>\n",
       "      <td>-10.181946</td>\n",
       "      <td>-15.422040</td>\n",
       "      <td>-6.830447</td>\n",
       "      <td>1.543497</td>\n",
       "      <td>9.249820</td>\n",
       "      <td>chenda</td>\n",
       "    </tr>\n",
       "    <tr>\n",
       "      <th>4</th>\n",
       "      <td>chendaclass2128kRingtone5.wav</td>\n",
       "      <td>0.319708</td>\n",
       "      <td>1126.166064</td>\n",
       "      <td>0.066377</td>\n",
       "      <td>1189.137335</td>\n",
       "      <td>0.066377</td>\n",
       "      <td>1849.420810</td>\n",
       "      <td>0.069172</td>\n",
       "      <td>-310.801849</td>\n",
       "      <td>159.409760</td>\n",
       "      <td>...</td>\n",
       "      <td>-12.874504</td>\n",
       "      <td>-13.169065</td>\n",
       "      <td>-6.562016</td>\n",
       "      <td>-9.152936</td>\n",
       "      <td>-13.759255</td>\n",
       "      <td>-14.527874</td>\n",
       "      <td>-5.431576</td>\n",
       "      <td>1.072858</td>\n",
       "      <td>6.962938</td>\n",
       "      <td>chenda</td>\n",
       "    </tr>\n",
       "  </tbody>\n",
       "</table>\n",
       "<p>5 rows × 29 columns</p>\n",
       "</div>"
      ],
      "text/plain": [
       "                       file_name  chroma_stft         rmse  spectral_centroid  \\\n",
       "0   chendaclass1128kRingtone.wav     0.339068  1237.864925           0.077525   \n",
       "1  chendaclass1128kRingtone1.wav     0.337907  1386.245962           0.064915   \n",
       "2  chendaclass1128kRingtone3.wav     0.358855  1309.613524           0.071199   \n",
       "3  chendaclass1128kRingtone4.wav     0.349820  1200.869102           0.079466   \n",
       "4  chendaclass2128kRingtone5.wav     0.319708  1126.166064           0.066377   \n",
       "\n",
       "   spectral_bandwidth   rolloff  zero_crossing_rate     mfcc1       mfcc2  \\\n",
       "0         1286.236830  0.077525         2116.997199  0.069963 -242.507065   \n",
       "1         1398.068100  0.064915         2478.563310  0.079397 -308.236755   \n",
       "2         1399.895072  0.071199         2297.117193  0.073015 -299.549713   \n",
       "3         1222.520831  0.079466         2004.899738  0.071154 -243.697906   \n",
       "4         1189.137335  0.066377         1849.420810  0.069172 -310.801849   \n",
       "\n",
       "        mfcc3  ...     mfcc13     mfcc14    mfcc15    mfcc16     mfcc17  \\\n",
       "0  156.976318  ... -16.768639 -14.803464 -9.823254 -8.131360 -10.671886   \n",
       "1  143.903976  ... -11.149848 -13.087843 -8.696457 -8.738175 -11.572500   \n",
       "2  142.000671  ... -11.120543 -13.012755 -7.535875 -9.090930 -14.479468   \n",
       "3  162.337494  ... -14.071358 -15.764640 -9.676484 -7.818457 -10.181946   \n",
       "4  159.409760  ... -12.874504 -13.169065 -6.562016 -9.152936 -13.759255   \n",
       "\n",
       "      mfcc18    mfcc19    mfcc20    mfcc21   label  \n",
       "0 -12.925205 -7.039728  2.503829  8.760798  chenda  \n",
       "1 -13.933675 -8.107023  2.901551  8.761925  chenda  \n",
       "2 -15.739069 -6.259544  5.034882  9.134732  chenda  \n",
       "3 -15.422040 -6.830447  1.543497  9.249820  chenda  \n",
       "4 -14.527874 -5.431576  1.072858  6.962938  chenda  \n",
       "\n",
       "[5 rows x 29 columns]"
      ]
     },
     "execution_count": 12,
     "metadata": {},
     "output_type": "execute_result"
    }
   ],
   "source": [
    "data=pd.read_csv('data.csv')\n",
    "data.head()"
   ]
  },
  {
   "cell_type": "code",
   "execution_count": 13,
   "metadata": {},
   "outputs": [
    {
     "data": {
      "text/html": [
       "<div>\n",
       "<style scoped>\n",
       "    .dataframe tbody tr th:only-of-type {\n",
       "        vertical-align: middle;\n",
       "    }\n",
       "\n",
       "    .dataframe tbody tr th {\n",
       "        vertical-align: top;\n",
       "    }\n",
       "\n",
       "    .dataframe thead th {\n",
       "        text-align: right;\n",
       "    }\n",
       "</style>\n",
       "<table border=\"1\" class=\"dataframe\">\n",
       "  <thead>\n",
       "    <tr style=\"text-align: right;\">\n",
       "      <th></th>\n",
       "      <th>chroma_stft</th>\n",
       "      <th>rmse</th>\n",
       "      <th>spectral_centroid</th>\n",
       "      <th>spectral_bandwidth</th>\n",
       "      <th>rolloff</th>\n",
       "      <th>zero_crossing_rate</th>\n",
       "      <th>mfcc1</th>\n",
       "      <th>mfcc2</th>\n",
       "      <th>mfcc3</th>\n",
       "      <th>mfcc4</th>\n",
       "      <th>...</th>\n",
       "      <th>mfcc13</th>\n",
       "      <th>mfcc14</th>\n",
       "      <th>mfcc15</th>\n",
       "      <th>mfcc16</th>\n",
       "      <th>mfcc17</th>\n",
       "      <th>mfcc18</th>\n",
       "      <th>mfcc19</th>\n",
       "      <th>mfcc20</th>\n",
       "      <th>mfcc21</th>\n",
       "      <th>label</th>\n",
       "    </tr>\n",
       "  </thead>\n",
       "  <tbody>\n",
       "    <tr>\n",
       "      <th>0</th>\n",
       "      <td>0.339068</td>\n",
       "      <td>1237.864925</td>\n",
       "      <td>0.077525</td>\n",
       "      <td>1286.236830</td>\n",
       "      <td>0.077525</td>\n",
       "      <td>2116.997199</td>\n",
       "      <td>0.069963</td>\n",
       "      <td>-242.507065</td>\n",
       "      <td>156.976318</td>\n",
       "      <td>-49.283501</td>\n",
       "      <td>...</td>\n",
       "      <td>-16.768639</td>\n",
       "      <td>-14.803464</td>\n",
       "      <td>-9.823254</td>\n",
       "      <td>-8.131360</td>\n",
       "      <td>-10.671886</td>\n",
       "      <td>-12.925205</td>\n",
       "      <td>-7.039728</td>\n",
       "      <td>2.503829</td>\n",
       "      <td>8.760798</td>\n",
       "      <td>chenda</td>\n",
       "    </tr>\n",
       "    <tr>\n",
       "      <th>1</th>\n",
       "      <td>0.337907</td>\n",
       "      <td>1386.245962</td>\n",
       "      <td>0.064915</td>\n",
       "      <td>1398.068100</td>\n",
       "      <td>0.064915</td>\n",
       "      <td>2478.563310</td>\n",
       "      <td>0.079397</td>\n",
       "      <td>-308.236755</td>\n",
       "      <td>143.903976</td>\n",
       "      <td>-41.930168</td>\n",
       "      <td>...</td>\n",
       "      <td>-11.149848</td>\n",
       "      <td>-13.087843</td>\n",
       "      <td>-8.696457</td>\n",
       "      <td>-8.738175</td>\n",
       "      <td>-11.572500</td>\n",
       "      <td>-13.933675</td>\n",
       "      <td>-8.107023</td>\n",
       "      <td>2.901551</td>\n",
       "      <td>8.761925</td>\n",
       "      <td>chenda</td>\n",
       "    </tr>\n",
       "    <tr>\n",
       "      <th>2</th>\n",
       "      <td>0.358855</td>\n",
       "      <td>1309.613524</td>\n",
       "      <td>0.071199</td>\n",
       "      <td>1399.895072</td>\n",
       "      <td>0.071199</td>\n",
       "      <td>2297.117193</td>\n",
       "      <td>0.073015</td>\n",
       "      <td>-299.549713</td>\n",
       "      <td>142.000671</td>\n",
       "      <td>-37.238811</td>\n",
       "      <td>...</td>\n",
       "      <td>-11.120543</td>\n",
       "      <td>-13.012755</td>\n",
       "      <td>-7.535875</td>\n",
       "      <td>-9.090930</td>\n",
       "      <td>-14.479468</td>\n",
       "      <td>-15.739069</td>\n",
       "      <td>-6.259544</td>\n",
       "      <td>5.034882</td>\n",
       "      <td>9.134732</td>\n",
       "      <td>chenda</td>\n",
       "    </tr>\n",
       "    <tr>\n",
       "      <th>3</th>\n",
       "      <td>0.349820</td>\n",
       "      <td>1200.869102</td>\n",
       "      <td>0.079466</td>\n",
       "      <td>1222.520831</td>\n",
       "      <td>0.079466</td>\n",
       "      <td>2004.899738</td>\n",
       "      <td>0.071154</td>\n",
       "      <td>-243.697906</td>\n",
       "      <td>162.337494</td>\n",
       "      <td>-51.282207</td>\n",
       "      <td>...</td>\n",
       "      <td>-14.071358</td>\n",
       "      <td>-15.764640</td>\n",
       "      <td>-9.676484</td>\n",
       "      <td>-7.818457</td>\n",
       "      <td>-10.181946</td>\n",
       "      <td>-15.422040</td>\n",
       "      <td>-6.830447</td>\n",
       "      <td>1.543497</td>\n",
       "      <td>9.249820</td>\n",
       "      <td>chenda</td>\n",
       "    </tr>\n",
       "    <tr>\n",
       "      <th>4</th>\n",
       "      <td>0.319708</td>\n",
       "      <td>1126.166064</td>\n",
       "      <td>0.066377</td>\n",
       "      <td>1189.137335</td>\n",
       "      <td>0.066377</td>\n",
       "      <td>1849.420810</td>\n",
       "      <td>0.069172</td>\n",
       "      <td>-310.801849</td>\n",
       "      <td>159.409760</td>\n",
       "      <td>-36.792442</td>\n",
       "      <td>...</td>\n",
       "      <td>-12.874504</td>\n",
       "      <td>-13.169065</td>\n",
       "      <td>-6.562016</td>\n",
       "      <td>-9.152936</td>\n",
       "      <td>-13.759255</td>\n",
       "      <td>-14.527874</td>\n",
       "      <td>-5.431576</td>\n",
       "      <td>1.072858</td>\n",
       "      <td>6.962938</td>\n",
       "      <td>chenda</td>\n",
       "    </tr>\n",
       "  </tbody>\n",
       "</table>\n",
       "<p>5 rows × 28 columns</p>\n",
       "</div>"
      ],
      "text/plain": [
       "   chroma_stft         rmse  spectral_centroid  spectral_bandwidth   rolloff  \\\n",
       "0     0.339068  1237.864925           0.077525         1286.236830  0.077525   \n",
       "1     0.337907  1386.245962           0.064915         1398.068100  0.064915   \n",
       "2     0.358855  1309.613524           0.071199         1399.895072  0.071199   \n",
       "3     0.349820  1200.869102           0.079466         1222.520831  0.079466   \n",
       "4     0.319708  1126.166064           0.066377         1189.137335  0.066377   \n",
       "\n",
       "   zero_crossing_rate     mfcc1       mfcc2       mfcc3      mfcc4  ...  \\\n",
       "0         2116.997199  0.069963 -242.507065  156.976318 -49.283501  ...   \n",
       "1         2478.563310  0.079397 -308.236755  143.903976 -41.930168  ...   \n",
       "2         2297.117193  0.073015 -299.549713  142.000671 -37.238811  ...   \n",
       "3         2004.899738  0.071154 -243.697906  162.337494 -51.282207  ...   \n",
       "4         1849.420810  0.069172 -310.801849  159.409760 -36.792442  ...   \n",
       "\n",
       "      mfcc13     mfcc14    mfcc15    mfcc16     mfcc17     mfcc18    mfcc19  \\\n",
       "0 -16.768639 -14.803464 -9.823254 -8.131360 -10.671886 -12.925205 -7.039728   \n",
       "1 -11.149848 -13.087843 -8.696457 -8.738175 -11.572500 -13.933675 -8.107023   \n",
       "2 -11.120543 -13.012755 -7.535875 -9.090930 -14.479468 -15.739069 -6.259544   \n",
       "3 -14.071358 -15.764640 -9.676484 -7.818457 -10.181946 -15.422040 -6.830447   \n",
       "4 -12.874504 -13.169065 -6.562016 -9.152936 -13.759255 -14.527874 -5.431576   \n",
       "\n",
       "     mfcc20    mfcc21   label  \n",
       "0  2.503829  8.760798  chenda  \n",
       "1  2.901551  8.761925  chenda  \n",
       "2  5.034882  9.134732  chenda  \n",
       "3  1.543497  9.249820  chenda  \n",
       "4  1.072858  6.962938  chenda  \n",
       "\n",
       "[5 rows x 28 columns]"
      ]
     },
     "execution_count": 13,
     "metadata": {},
     "output_type": "execute_result"
    }
   ],
   "source": [
    "datax=data.drop(['file_name'],axis=1)\n",
    "datax.head()"
   ]
  },
  {
   "cell_type": "code",
   "execution_count": 14,
   "metadata": {
    "scrolled": true
   },
   "outputs": [],
   "source": [
    "from sklearn.preprocessing import LabelEncoder\n",
    "genre_list = data.iloc[:, -1]\n",
    "encoder=LabelEncoder()\n",
    "y=encoder.fit_transform(genre_list)"
   ]
  },
  {
   "cell_type": "code",
   "execution_count": 15,
   "metadata": {},
   "outputs": [],
   "source": [
    "from sklearn.preprocessing import StandardScaler\n",
    "scalar=StandardScaler()\n",
    "X = scalar.fit_transform(np.array(datax.iloc[:, :-1], dtype = float))"
   ]
  },
  {
   "cell_type": "code",
   "execution_count": 16,
   "metadata": {},
   "outputs": [],
   "source": [
    "from sklearn.model_selection import train_test_split\n"
   ]
  },
  {
   "cell_type": "code",
   "execution_count": 17,
   "metadata": {},
   "outputs": [],
   "source": [
    "X_train, X_test, y_train, y_test = train_test_split(X, y, test_size=0.2)"
   ]
  },
  {
   "cell_type": "code",
   "execution_count": 18,
   "metadata": {},
   "outputs": [],
   "source": [
    "from tensorflow.keras.models import Sequential\n",
    "from tensorflow.keras.layers import Dense\n"
   ]
  },
  {
   "cell_type": "code",
   "execution_count": 19,
   "metadata": {},
   "outputs": [
    {
     "data": {
      "text/plain": [
       "(26, 27)"
      ]
     },
     "execution_count": 19,
     "metadata": {},
     "output_type": "execute_result"
    }
   ],
   "source": [
    "X_train.shape"
   ]
  },
  {
   "cell_type": "code",
   "execution_count": 22,
   "metadata": {},
   "outputs": [],
   "source": [
    "model=Sequential()\n",
    "model.add(Dense(27, activation='relu'))\n",
    "model.add(Dense(27, activation='relu'))\n",
    "model.add(Dense(27, activation='relu'))\n",
    "model.add(Dense(27, activation='relu'))\n",
    "\n",
    "model.add(Dense(1))"
   ]
  },
  {
   "cell_type": "code",
   "execution_count": 23,
   "metadata": {},
   "outputs": [],
   "source": [
    "model.compile(optimizer='adam',\n",
    "              loss='mse',\n",
    "              metrics=['accuracy'])"
   ]
  },
  {
   "cell_type": "code",
   "execution_count": 24,
   "metadata": {},
   "outputs": [
    {
     "name": "stdout",
     "output_type": "stream",
     "text": [
      "Epoch 1/20\n",
      "1/1 [==============================] - 1s 1s/step - loss: 1.4086 - accuracy: 0.3462\n",
      "Epoch 2/20\n",
      "1/1 [==============================] - 0s 5ms/step - loss: 1.3278 - accuracy: 0.3462\n",
      "Epoch 3/20\n",
      "1/1 [==============================] - 0s 7ms/step - loss: 1.2498 - accuracy: 0.3462\n",
      "Epoch 4/20\n",
      "1/1 [==============================] - 0s 7ms/step - loss: 1.1775 - accuracy: 0.3846\n",
      "Epoch 5/20\n",
      "1/1 [==============================] - 0s 6ms/step - loss: 1.1075 - accuracy: 0.3846\n",
      "Epoch 6/20\n",
      "1/1 [==============================] - 0s 7ms/step - loss: 1.0403 - accuracy: 0.3846\n",
      "Epoch 7/20\n",
      "1/1 [==============================] - 0s 5ms/step - loss: 0.9742 - accuracy: 0.4231\n",
      "Epoch 8/20\n",
      "1/1 [==============================] - 0s 10ms/step - loss: 0.9099 - accuracy: 0.4231\n",
      "Epoch 9/20\n",
      "1/1 [==============================] - 0s 10ms/step - loss: 0.8474 - accuracy: 0.5385\n",
      "Epoch 10/20\n",
      "1/1 [==============================] - 0s 11ms/step - loss: 0.7863 - accuracy: 0.5385\n",
      "Epoch 11/20\n",
      "1/1 [==============================] - 0s 6ms/step - loss: 0.7285 - accuracy: 0.5769\n",
      "Epoch 12/20\n",
      "1/1 [==============================] - 0s 7ms/step - loss: 0.6746 - accuracy: 0.5769\n",
      "Epoch 13/20\n",
      "1/1 [==============================] - 0s 7ms/step - loss: 0.6248 - accuracy: 0.6154\n",
      "Epoch 14/20\n",
      "1/1 [==============================] - 0s 7ms/step - loss: 0.5790 - accuracy: 0.6154\n",
      "Epoch 15/20\n",
      "1/1 [==============================] - 0s 7ms/step - loss: 0.5368 - accuracy: 0.6154\n",
      "Epoch 16/20\n",
      "1/1 [==============================] - 0s 10ms/step - loss: 0.4988 - accuracy: 0.5769\n",
      "Epoch 17/20\n",
      "1/1 [==============================] - 0s 10ms/step - loss: 0.4659 - accuracy: 0.6154\n",
      "Epoch 18/20\n",
      "1/1 [==============================] - 0s 6ms/step - loss: 0.4370 - accuracy: 0.6538\n",
      "Epoch 19/20\n",
      "1/1 [==============================] - ETA: 0s - loss: 0.4117 - accuracy: 0.65 - 0s 7ms/step - loss: 0.4117 - accuracy: 0.6538\n",
      "Epoch 20/20\n",
      "1/1 [==============================] - 0s 8ms/step - loss: 0.3893 - accuracy: 0.6538\n"
     ]
    }
   ],
   "source": [
    "history = model.fit(X_train,\n",
    "                    y_train,\n",
    "                    epochs=20,\n",
    "                    batch_size=128)"
   ]
  },
  {
   "cell_type": "code",
   "execution_count": 25,
   "metadata": {},
   "outputs": [
    {
     "name": "stdout",
     "output_type": "stream",
     "text": [
      "1/1 [==============================] - 0s 322ms/step - loss: 0.5122 - accuracy: 0.7143\n",
      "test_acc:  0.7142857313156128\n"
     ]
    }
   ],
   "source": [
    "test_loss, test_acc = model.evaluate(X_test,y_test)\n",
    "print('test_acc: ',test_acc)"
   ]
  },
  {
   "cell_type": "code",
   "execution_count": 26,
   "metadata": {},
   "outputs": [
    {
     "data": {
      "text/plain": [
       "0"
      ]
     },
     "execution_count": 26,
     "metadata": {},
     "output_type": "execute_result"
    }
   ],
   "source": [
    "predictions = model.predict(X_test)\n",
    "np.argmax(predictions[0])"
   ]
  },
  {
   "cell_type": "code",
   "execution_count": null,
   "metadata": {},
   "outputs": [],
   "source": []
  }
 ],
 "metadata": {
  "kernelspec": {
   "display_name": "Python 3",
   "language": "python",
   "name": "python3"
  },
  "language_info": {
   "codemirror_mode": {
    "name": "ipython",
    "version": 3
   },
   "file_extension": ".py",
   "mimetype": "text/x-python",
   "name": "python",
   "nbconvert_exporter": "python",
   "pygments_lexer": "ipython3",
   "version": "3.8.5"
  }
 },
 "nbformat": 4,
 "nbformat_minor": 4
}
